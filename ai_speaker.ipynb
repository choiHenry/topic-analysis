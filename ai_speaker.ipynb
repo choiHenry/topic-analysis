{
  "nbformat": 4,
  "nbformat_minor": 0,
  "metadata": {
    "colab": {
      "name": "ai-speaker.ipynb",
      "version": "0.3.2",
      "provenance": [],
      "collapsed_sections": [],
      "include_colab_link": true
    },
    "kernelspec": {
      "name": "python3",
      "display_name": "Python 3"
    }
  },
  "cells": [
    {
      "cell_type": "markdown",
      "metadata": {
        "id": "view-in-github",
        "colab_type": "text"
      },
      "source": [
        "<a href=\"https://colab.research.google.com/github/choiHenry/topic-analysis/blob/master/ai_speaker.ipynb\" target=\"_parent\"><img src=\"https://colab.research.google.com/assets/colab-badge.svg\" alt=\"Open In Colab\"/></a>"
      ]
    },
    {
      "cell_type": "code",
      "metadata": {
        "id": "NkzhhZ-iwdfh",
        "colab_type": "code",
        "colab": {}
      },
      "source": [
        "import time\n",
        "import requests\n",
        "from bs4 import BeautifulSoup"
      ],
      "execution_count": 0,
      "outputs": []
    },
    {
      "cell_type": "code",
      "metadata": {
        "id": "z8qzv8T2weyR",
        "colab_type": "code",
        "colab": {}
      },
      "source": [
        "def getPcode(page):\n",
        "    pCodeList = []\n",
        "    for i in range(1,page+1):\n",
        "        print(i,\"페이지 입니다\")\n",
        "        headers = {\n",
        "            \"Accept\": \"text/html, */*; q=0.01\",\n",
        "            \"Accept-Encoding\": \"gzip, deflate\",\n",
        "            \"Accept-Language\": \"en-US,en;q=0.9,ko;q=0.8\",\n",
        "            \"Connection\": \"keep-alive\",\n",
        "            \"Content-Length\": \"633\",\n",
        "            \"Content-Type\": \"application/x-www-form-urlencoded\",\n",
        "            \"Cookie\": \"userAccessIP=147.47.133.48; userAccessTime=2019-08-07+12%3A20%3A47; cookPrevViewCategory=12325478%7C12218103; OAX=AdJ2+Fz+7nUAA1WR; danawa-loggingApplicationClient=2105f4b6-f0fb-40e1-a175-e022c13be62b; _ga=GA1.2.314252756.1560211062; ADWEBCOUNTER_UUID=ee9473b5-72d2-2026-be1f-b48f19a7a409; cookSaveShopInfo=TQB02%3A2019-06-11; _gid=GA1.2.1904239302.1565077365; cookieGuestId=33d2c5f0fdcfbc6c3d5a37ec5782a20e; PHPSESSID=lbeggn3aa86j5rjsrvdkao2ba7; ADWEBCOUNTER_KEYWORD=; ADWEBCOUNTER_URL=; RMFD=011hvAuRP406pl!6408aD!6408aE; cookNewSearchKeyword=%EC%9D%B8%EA%B3%B5%EC%A7%80%EB%8A%A5%20%EC%8A%A4%ED%94%BC%EC%BB%A4%3E08.07%7C6470540%3E08.07%7C%EC%84%B8%ED%83%81%EA%B8%B0%3E08.07; cookSaveProdInfo=12%3A6298306%3A68540%7C12%3A5254630%3A93100%7C10%3A7517737%3A2521520%7C10%3A7206871%3A1348980%7C10%3A6445754%3A3225380%7C12%3A6470540%3A85860%7C10%3A7533526%3A1158840%7C12%3A8545274%3A91080%7C12%3A4516736%3A80190%7C10%3A4977813%3A899000%7C10%3A6418430%3A385280%7C10%3A7207105%3A1306400; _gat=1; _INSIGHT_CK_8203=90e8181b8d1ce1a8716361beef9cf39a_11061|26d62e0b8104d10cf2b563e87fda35f7_46722:1565149886000; wcs_bt=s_3b3fb74948b1:1565148086\",\n",
        "            \"Host\": \"prod.danawa.com\",\n",
        "            \"Origin\": \"http://prod.danawa.com\",\n",
        "            \"Referer\": \"http://prod.danawa.com/list/?cate=12325478\",\n",
        "            \"User-Agent\": \"Mozilla/5.0 (Macintosh; Intel Mac OS X 10_14_3) AppleWebKit/537.36 (KHTML, like Gecko) Chrome/75.0.3770.142 Safari/537.36\",\n",
        "            \"X-Requested-With\": \"XMLHttpRequest\",\n",
        "        }\n",
        "\n",
        "        params = {\n",
        "            \"page\": \"1\",\n",
        "            \"listCategoryCode\": \"25478\",\n",
        "            \"categoryCode\": \"25478\",\n",
        "            \"physicsCate1\": \"224\",\n",
        "            \"physicsCate2\": \"49727\",\n",
        "            \"physicsCate3\": \"49734\",\n",
        "            \"physicsCate4\": \"0\",\n",
        "            \"viewMethod\": \"LIST\",\n",
        "            \"sortMethod\": \"\",\n",
        "            \"listCount\": \"30\",\n",
        "            \"group\": \"12\",\n",
        "            \"depth\": \"3\",\n",
        "            \"brandName\": \"\", \n",
        "            \"makerName\": \"\",\n",
        "            \"searchOptionName\": \"\", \n",
        "            \"sDiscountProductRate\": \"0\",\n",
        "            \"sInitialPriceDisplay\": \"N\",\n",
        "            \"sPowerLinkKeyword\": \"인공지능 스피커\",\n",
        "            \"oCurrentCategoryCode\": \"a:3:{i:1;i:18090;i:2;i:18103;i:3;i:25478;}\",\n",
        "            \"innerSearchKeyword\":\"\", \n",
        "            \"listPackageType\": \"1\",\n",
        "            \"categoryMappingCode\": \"30761\",\n",
        "            \"priceUnit\": \"0\",\n",
        "            \"priceUnitValue\": \"0\",\n",
        "            \"priceUnitClass\": \"\", \n",
        "            \"cmRecommendSort\": \"N\",\n",
        "            \"cmRecommendSortDefault\": \"N\",\n",
        "            \"bundleImagePreview\": \"N\",\n",
        "            \"nPackageLimit\": \"5\",\n",
        "            \"nPriceUnit\": \"0\",\n",
        "            \"bMakerDisplayYN\": \"Y\",\n",
        "            \"isDpgZoneUICategory\": \"N\",\n",
        "            \"sProductListApi\": \"search\"\n",
        "        }\n",
        "\n",
        "        res = requests.post(\"http://prod.danawa.com/list/ajax/getProductList.ajax.php\", headers = headers, data=params)\n",
        "        soup = BeautifulSoup(res.text, \"html.parser\")\n",
        "        #print(soup)\n",
        "        a = soup.findAll(\"a\", attrs = {\"name\":\"productName\"})\n",
        "        \n",
        "        for i in range(len(a)):\n",
        "            pCodeList.append(a[i]['href'][35:42])\n",
        "        \n",
        "    return pCodeList"
      ],
      "execution_count": 0,
      "outputs": []
    },
    {
      "cell_type": "code",
      "metadata": {
        "id": "-VyxMu6jDMMJ",
        "colab_type": "code",
        "colab": {
          "base_uri": "https://localhost:8080/",
          "height": 544
        },
        "outputId": "9e12d8cb-7d9b-4a6c-ff92-f8f2d5089dd9"
      },
      "source": [
        "getPcode(1)"
      ],
      "execution_count": 62,
      "outputs": [
        {
          "output_type": "stream",
          "text": [
            "1 페이지 입니다\n"
          ],
          "name": "stdout"
        },
        {
          "output_type": "execute_result",
          "data": {
            "text/plain": [
              "['6453605',\n",
              " '6470540',\n",
              " '8545274',\n",
              " '6298306',\n",
              " '7308109',\n",
              " '5254630',\n",
              " '6468060',\n",
              " '7779952',\n",
              " '6396458',\n",
              " '7072036',\n",
              " '6518832',\n",
              " '7868797',\n",
              " '4035059',\n",
              " '4406962',\n",
              " '5402287',\n",
              " '7094143',\n",
              " '6454659',\n",
              " '6392154',\n",
              " '5912049',\n",
              " '6453901',\n",
              " '6339483',\n",
              " '6402079',\n",
              " '6954802',\n",
              " '5669148',\n",
              " '4035519',\n",
              " '5717872',\n",
              " '4709833',\n",
              " '6494056',\n",
              " '5310285',\n",
              " '5239109']"
            ]
          },
          "metadata": {
            "tags": []
          },
          "execution_count": 62
        }
      ]
    },
    {
      "cell_type": "code",
      "metadata": {
        "id": "3J198ALI3zkb",
        "colab_type": "code",
        "colab": {
          "base_uri": "https://localhost:8080/",
          "height": 34
        },
        "outputId": "4ab5a1ad-713c-4a8a-8e37-9b09ee0f9132"
      },
      "source": [
        "pCodeList = getPcode(1)"
      ],
      "execution_count": 63,
      "outputs": [
        {
          "output_type": "stream",
          "text": [
            "1 페이지 입니다\n"
          ],
          "name": "stdout"
        }
      ]
    },
    {
      "cell_type": "code",
      "metadata": {
        "id": "uG9qU8j63tjI",
        "colab_type": "code",
        "colab": {
          "base_uri": "https://localhost:8080/",
          "height": 54
        },
        "outputId": "b56f9bcd-9bf9-4343-fdd8-35fe2f56e2c7"
      },
      "source": [
        "print(pCodeList)"
      ],
      "execution_count": 65,
      "outputs": [
        {
          "output_type": "stream",
          "text": [
            "['6453605', '6470540', '8545274', '6298306', '7308109', '5254630', '6468060', '7779952', '6396458', '7072036', '6518832', '7868797', '4035059', '4406962', '5402287', '7094143', '6454659', '6392154', '5912049', '6453901', '6339483', '6402079', '6954802', '5669148', '4035519', '5717872', '4709833', '6494056', '5310285', '5239109']\n"
          ],
          "name": "stdout"
        }
      ]
    },
    {
      "cell_type": "code",
      "metadata": {
        "id": "CF62pKGB3vv0",
        "colab_type": "code",
        "colab": {}
      },
      "source": [
        "#다나와 리뷰 크롤링\n",
        "\n",
        "def danawaCraw(pcode, page):\n",
        "    reviewlist = []\n",
        "    for idx in range(1,page+1):\n",
        "        headers = {\"Referer\" : \"http://prod.danawa.com/info/?pcode=6453605&cate=12325478\", \"User-Agent\" : \"Mozilla/5.0 (Windows NT 10.0; Win64; x64) AppleWebKit/537.36 (KHTML, like Gecko) Chrome/72.0.3626.109 Safari/537.36\"}\n",
        "        params = {\"t\" : 0.987242607715326, \"prodCode\" : pcode, \"page\" : idx, \"limit\":10, \"score\":0, \"usefullScore\":\"Y\", \"_\":1565149186156}\n",
        "\n",
        "        try:\n",
        "          res = requests.get(\"http://prod.danawa.com/info/dpg/ajax/companyProductReview.ajax.php?t=0.987242607715326&prodCode=6453605&cate1Code=224&page=1&limit=10&score=0&sortType=&usefullScore=Y&innerKeyword=&subjectWord=0&subjectWordString=&subjectSimilarWordString=&_=1565149186156\", headers = headers, params = params)\n",
        "          soup = BeautifulSoup(res.text, \"html.parser\")\n",
        "          divs = soup.find_all(\"div\", attrs = {\"class\":\"atc\"})\n",
        "          print(idx,'페이지에서', len(divs),'개의 리뷰 크롤링완료')\n",
        "          for i in range(len(divs)):\n",
        "              reviewlist.append(\" \".join(divs[i].text.split()))\n",
        "          print('리스트에 리뷰 넣기 완료')\n",
        "        except:\n",
        "          print('리뷰페이지가 존재하지 않습니다.')\n",
        "    return reviewlist"
      ],
      "execution_count": 0,
      "outputs": []
    },
    {
      "cell_type": "code",
      "metadata": {
        "id": "FvmXj4nh39D2",
        "colab_type": "code",
        "colab": {}
      },
      "source": [
        "TotalReview = []\n",
        "for p in pCodeList:\n",
        "    TotalReview.append(danawaCraw(p, 100))"
      ],
      "execution_count": 0,
      "outputs": []
    },
    {
      "cell_type": "code",
      "metadata": {
        "id": "sxWSohEpNU7j",
        "colab_type": "code",
        "colab": {}
      },
      "source": [
        "TotalReview"
      ],
      "execution_count": 0,
      "outputs": []
    }
  ]
}